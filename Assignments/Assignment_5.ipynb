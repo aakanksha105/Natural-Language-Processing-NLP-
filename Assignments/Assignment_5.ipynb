{
 "cells": [
  {
   "cell_type": "code",
   "execution_count": 1,
   "id": "7abf3c48",
   "metadata": {},
   "outputs": [],
   "source": [
    "import pandas as pd\n",
    "import re\n",
    "import numpy as np"
   ]
  },
  {
   "cell_type": "code",
   "execution_count": 2,
   "id": "b97ef516",
   "metadata": {},
   "outputs": [],
   "source": [
    "from nltk.corpus import stopwords\n",
    "from nltk.tokenize import word_tokenize\n",
    "from nltk.stem import SnowballStemmer"
   ]
  },
  {
   "cell_type": "code",
   "execution_count": 3,
   "id": "e7c691e6",
   "metadata": {},
   "outputs": [],
   "source": [
    "from sklearn.feature_extraction.text import CountVectorizer\n",
    "from sklearn.model_selection import train_test_split\n",
    "from sklearn.naive_bayes import GaussianNB\n",
    "from sklearn.metrics import accuracy_score,precision_score,recall_score"
   ]
  },
  {
   "cell_type": "code",
   "execution_count": 4,
   "id": "6b59d172",
   "metadata": {},
   "outputs": [],
   "source": [
    "def clean(text):\n",
    "    cleaned = re.compile(r'<.*?>')\n",
    "    return re.sub(cleaned,'',text)"
   ]
  },
  {
   "cell_type": "code",
   "execution_count": 5,
   "id": "c3af50a4",
   "metadata": {},
   "outputs": [],
   "source": [
    "def remove_special_char(text):\n",
    "    for i in text:\n",
    "        if i.isalnum()==False and i != \" \":\n",
    "            text=text.replace(i,'')\n",
    "            \n",
    "    return text"
   ]
  },
  {
   "cell_type": "code",
   "execution_count": 6,
   "id": "7c18793c",
   "metadata": {},
   "outputs": [],
   "source": [
    "def to_lower(text):\n",
    "    return text.lower()"
   ]
  },
  {
   "cell_type": "code",
   "execution_count": 7,
   "id": "2796477e",
   "metadata": {},
   "outputs": [],
   "source": [
    "def remove_stopwords(text):\n",
    "    stop_words = set(stopwords.words('english'))\n",
    "    words = word_tokenize(text)\n",
    "    return [w for w in words if w not in stop_words]"
   ]
  },
  {
   "cell_type": "code",
   "execution_count": 8,
   "id": "48348313",
   "metadata": {},
   "outputs": [],
   "source": [
    "def stem(text):\n",
    "    ss = SnowballStemmer('english')\n",
    "    return \" \".join([ss.stem(w) for w in text])"
   ]
  },
  {
   "cell_type": "code",
   "execution_count": 9,
   "id": "3254a5ea",
   "metadata": {},
   "outputs": [],
   "source": [
    "def preprocessing(data):\n",
    "    data['sentiment'].replace('positive',1,inplace=True)\n",
    "    data['sentiment'].replace('negative',-1,inplace=True)\n",
    "    \n",
    "    data['review'] = data['review'].apply(clean)\n",
    "    data['review'] = data['review'].apply(remove_special_char)\n",
    "    data['review'] = data['review'].apply(to_lower)\n",
    "    data['review'] = data['review'].apply(remove_stopwords)\n",
    "    data['review'] = data['review'].apply(stem)"
   ]
  },
  {
   "cell_type": "code",
   "execution_count": 10,
   "id": "eea1a58f",
   "metadata": {},
   "outputs": [],
   "source": [
    "def prepro_text(text):\n",
    "    text = clean(text)\n",
    "    text = remove_special_char(text)\n",
    "    text = to_lower(text)\n",
    "    text = remove_stopwords(text)\n",
    "    text = stem(text)\n",
    "    text = cv.transform([text]).toarray()\n",
    "    return text"
   ]
  },
  {
   "cell_type": "code",
   "execution_count": 11,
   "id": "ff7c79fe",
   "metadata": {},
   "outputs": [],
   "source": [
    "data = pd.read_csv('IMDB Dataset.csv')"
   ]
  },
  {
   "cell_type": "code",
   "execution_count": 12,
   "id": "fb43057e",
   "metadata": {},
   "outputs": [],
   "source": [
    "preprocessing(data)"
   ]
  },
  {
   "cell_type": "code",
   "execution_count": 13,
   "id": "2abb0408",
   "metadata": {},
   "outputs": [],
   "source": [
    "X = np.array(data['review'].values)\n",
    "y = np.array(data['sentiment'].values)\n",
    "cv = CountVectorizer(max_features = 100)\n",
    "X_1 = cv.fit_transform(data.review).toarray()"
   ]
  },
  {
   "cell_type": "code",
   "execution_count": 14,
   "id": "a85021c3",
   "metadata": {},
   "outputs": [],
   "source": [
    "x_train,x_test,y_train,y_test = train_test_split(X_1,y,test_size=0.2,random_state=9)"
   ]
  },
  {
   "cell_type": "code",
   "execution_count": 15,
   "id": "fd4b527c",
   "metadata": {},
   "outputs": [],
   "source": [
    "gnb = GaussianNB()\n",
    "gnb.fit(x_train,y_train)\n",
    "ypg = gnb.predict(x_test)"
   ]
  },
  {
   "cell_type": "code",
   "execution_count": 16,
   "id": "d45c21be",
   "metadata": {},
   "outputs": [
    {
     "name": "stdout",
     "output_type": "stream",
     "text": [
      "Gaussian accuracy =  0.7174\n",
      "Gaussian precision =  0.7341606792945787\n",
      "Gaussian recall=  0.6775165762507535\n"
     ]
    }
   ],
   "source": [
    "print(\"Gaussian accuracy = \",accuracy_score(y_test,ypg))\n",
    "print(\"Gaussian precision = \",precision_score(y_test,ypg))\n",
    "print(\"Gaussian recall= \",recall_score(y_test,ypg))"
   ]
  },
  {
   "cell_type": "code",
   "execution_count": null,
   "id": "c6325796",
   "metadata": {},
   "outputs": [],
   "source": []
  }
 ],
 "metadata": {
  "kernelspec": {
   "display_name": "Python 3",
   "language": "python",
   "name": "python3"
  },
  "language_info": {
   "codemirror_mode": {
    "name": "ipython",
    "version": 3
   },
   "file_extension": ".py",
   "mimetype": "text/x-python",
   "name": "python",
   "nbconvert_exporter": "python",
   "pygments_lexer": "ipython3",
   "version": "3.8.8"
  }
 },
 "nbformat": 4,
 "nbformat_minor": 5
}
