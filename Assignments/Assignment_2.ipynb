{
 "cells": [
  {
   "cell_type": "code",
   "execution_count": 1,
   "id": "0a3a433b",
   "metadata": {},
   "outputs": [],
   "source": [
    "import nltk"
   ]
  },
  {
   "cell_type": "code",
   "execution_count": 2,
   "id": "3a3c9057",
   "metadata": {},
   "outputs": [],
   "source": [
    "text = \"\"\"I'm Aakanksha Bhondve born in 2001, Currently pursuing B.Tech from VIIT,Pune\"\"\""
   ]
  },
  {
   "cell_type": "code",
   "execution_count": 3,
   "id": "f9638138",
   "metadata": {},
   "outputs": [
    {
     "data": {
      "text/plain": [
       "[\"I'm\",\n",
       " 'Aakanksha',\n",
       " 'Bhondve',\n",
       " 'born',\n",
       " 'in',\n",
       " '2001',\n",
       " '',\n",
       " 'Currently',\n",
       " 'pursuing',\n",
       " 'B',\n",
       " 'Tech',\n",
       " 'from',\n",
       " 'VIIT',\n",
       " 'Pune']"
      ]
     },
     "execution_count": 3,
     "metadata": {},
     "output_type": "execute_result"
    }
   ],
   "source": [
    "import regex\n",
    "regex.split(\"[\\s\\.\\,]\",text)"
   ]
  },
  {
   "cell_type": "code",
   "execution_count": 4,
   "id": "72438403",
   "metadata": {},
   "outputs": [
    {
     "name": "stderr",
     "output_type": "stream",
     "text": [
      "[nltk_data] Downloading package punkt to\n",
      "[nltk_data]     C:\\Users\\aakan\\AppData\\Roaming\\nltk_data...\n",
      "[nltk_data]   Package punkt is already up-to-date!\n"
     ]
    },
    {
     "data": {
      "text/plain": [
       "True"
      ]
     },
     "execution_count": 4,
     "metadata": {},
     "output_type": "execute_result"
    }
   ],
   "source": [
    "import nltk\n",
    "nltk.download('punkt')"
   ]
  },
  {
   "cell_type": "code",
   "execution_count": 5,
   "id": "0e31bafc",
   "metadata": {},
   "outputs": [
    {
     "data": {
      "text/plain": [
       "['I',\n",
       " \"'m\",\n",
       " 'Aakanksha',\n",
       " 'Bhondve',\n",
       " 'born',\n",
       " 'in',\n",
       " '2001',\n",
       " ',',\n",
       " 'Currently',\n",
       " 'pursuing',\n",
       " 'B.Tech',\n",
       " 'from',\n",
       " 'VIIT',\n",
       " ',',\n",
       " 'Pune']"
      ]
     },
     "execution_count": 5,
     "metadata": {},
     "output_type": "execute_result"
    }
   ],
   "source": [
    "nltk.word_tokenize(text)"
   ]
  },
  {
   "cell_type": "code",
   "execution_count": 6,
   "id": "ed5cb342",
   "metadata": {},
   "outputs": [
    {
     "name": "stdout",
     "output_type": "stream",
     "text": [
      "caresses >>> caress\n",
      "flies >>> fli\n",
      "dies >>> die\n",
      "mules >>> mule\n",
      "denied >>> deni\n",
      "died >>> die\n",
      "agreed >>> agre\n",
      "owed >>> owe\n",
      "humbled >>> humbl\n",
      "sized >>> size\n",
      "meeting >>> meet\n",
      "stating >>> state\n",
      "siezing >>> siez\n",
      "itemization >>> item\n",
      "sensational >>> sensat\n",
      "traditional >>> tradit\n",
      "reference >>> refer\n",
      "plotted >>> plot\n"
     ]
    }
   ],
   "source": [
    "from nltk.stem import PorterStemmer\n",
    "stemmer = PorterStemmer()\n",
    "plurals = ['caresses','flies','dies','mules','denied','died','agreed',\n",
    "           'owed','humbled','sized','meeting','stating','siezing','itemization',\n",
    "           'sensational','traditional','reference','plotted']\n",
    "\n",
    "for word in plurals:\n",
    "  print(f\"{word} >>> {stemmer.stem(word)}\")"
   ]
  },
  {
   "cell_type": "code",
   "execution_count": 7,
   "id": "e2439d66",
   "metadata": {},
   "outputs": [
    {
     "data": {
      "text/plain": [
       "('arabic',\n",
       " 'danish',\n",
       " 'dutch',\n",
       " 'english',\n",
       " 'finnish',\n",
       " 'french',\n",
       " 'german',\n",
       " 'hungarian',\n",
       " 'italian',\n",
       " 'norwegian',\n",
       " 'porter',\n",
       " 'portuguese',\n",
       " 'romanian',\n",
       " 'russian',\n",
       " 'spanish',\n",
       " 'swedish')"
      ]
     },
     "execution_count": 7,
     "metadata": {},
     "output_type": "execute_result"
    }
   ],
   "source": [
    "from nltk.stem.snowball import SnowballStemmer\n",
    "SnowballStemmer.languages"
   ]
  },
  {
   "cell_type": "code",
   "execution_count": 8,
   "id": "7551700c",
   "metadata": {},
   "outputs": [],
   "source": [
    "sn_stemmer = SnowballStemmer(\"english\")"
   ]
  },
  {
   "cell_type": "code",
   "execution_count": 9,
   "id": "9ef541ea",
   "metadata": {},
   "outputs": [
    {
     "data": {
      "text/plain": [
       "'generous'"
      ]
     },
     "execution_count": 9,
     "metadata": {},
     "output_type": "execute_result"
    }
   ],
   "source": [
    "sn_stemmer.stem(\"generously\")"
   ]
  },
  {
   "cell_type": "code",
   "execution_count": 10,
   "id": "e4634b89",
   "metadata": {},
   "outputs": [
    {
     "data": {
      "text/plain": [
       "'gener'"
      ]
     },
     "execution_count": 10,
     "metadata": {},
     "output_type": "execute_result"
    }
   ],
   "source": [
    "stemmer.stem(\"generously\")"
   ]
  },
  {
   "cell_type": "code",
   "execution_count": 11,
   "id": "e776f689",
   "metadata": {},
   "outputs": [],
   "source": [
    "from nltk.stem import WordNetLemmatizer\n",
    "lemmatizer = WordNetLemmatizer()"
   ]
  },
  {
   "cell_type": "code",
   "execution_count": 12,
   "id": "7cf63961",
   "metadata": {},
   "outputs": [
    {
     "name": "stderr",
     "output_type": "stream",
     "text": [
      "[nltk_data] Downloading package wordnet to\n",
      "[nltk_data]     C:\\Users\\aakan\\AppData\\Roaming\\nltk_data...\n",
      "[nltk_data]   Unzipping corpora\\wordnet.zip.\n"
     ]
    },
    {
     "data": {
      "text/plain": [
       "True"
      ]
     },
     "execution_count": 12,
     "metadata": {},
     "output_type": "execute_result"
    }
   ],
   "source": [
    "import nltk\n",
    "nltk.download('wordnet')"
   ]
  },
  {
   "cell_type": "code",
   "execution_count": 13,
   "id": "ca664139",
   "metadata": {},
   "outputs": [
    {
     "name": "stdout",
     "output_type": "stream",
     "text": [
      "caresses >>> caress\n",
      "flies >>> fly\n",
      "dies >>> dy\n",
      "mules >>> mule\n",
      "denied >>> denied\n",
      "died >>> died\n",
      "agreed >>> agreed\n",
      "owed >>> owed\n",
      "humbled >>> humbled\n",
      "sized >>> sized\n",
      "meeting >>> meeting\n",
      "stating >>> stating\n",
      "siezing >>> siezing\n",
      "itemization >>> itemization\n",
      "sensational >>> sensational\n",
      "traditional >>> traditional\n",
      "reference >>> reference\n",
      "plotted >>> plotted\n"
     ]
    }
   ],
   "source": [
    "for word in plurals:\n",
    "  print(f\"{word} >>> {lemmatizer.lemmatize(word)}\")"
   ]
  },
  {
   "cell_type": "code",
   "execution_count": null,
   "id": "078ef0c5",
   "metadata": {},
   "outputs": [],
   "source": [
    "!pip install inltk"
   ]
  },
  {
   "cell_type": "code",
   "execution_count": null,
   "id": "77782889",
   "metadata": {},
   "outputs": [],
   "source": [
    "!pip install streamlit"
   ]
  },
  {
   "cell_type": "code",
   "execution_count": null,
   "id": "3d768aa8",
   "metadata": {},
   "outputs": [],
   "source": [
    "import warnings\n",
    "warnings.filterwarnings('ignore')"
   ]
  },
  {
   "cell_type": "code",
   "execution_count": null,
   "id": "4fee05b0",
   "metadata": {},
   "outputs": [],
   "source": [
    "!pip install pyngrok"
   ]
  },
  {
   "cell_type": "code",
   "execution_count": null,
   "id": "b68f574c",
   "metadata": {},
   "outputs": [],
   "source": [
    "!pip install torch==1.3.1+cpu -f https://download.pytorch.org/whl/torch_stable.html"
   ]
  },
  {
   "cell_type": "code",
   "execution_count": null,
   "id": "f4090f39",
   "metadata": {},
   "outputs": [],
   "source": [
    "from inltk.inltk import setup\n",
    "#setup('hi')"
   ]
  },
  {
   "cell_type": "code",
   "execution_count": null,
   "id": "d2835913",
   "metadata": {},
   "outputs": [],
   "source": [
    "from inltk.inltk import tokenize\n",
    "from inltk.inltk import get_similar_sentences\n",
    "from inltk.inltk import predict_next_words\n",
    "from inltk.inltk import get_sentence_similarity"
   ]
  },
  {
   "cell_type": "code",
   "execution_count": null,
   "id": "daafa3ea",
   "metadata": {},
   "outputs": [],
   "source": [
    "from inltk.inltk import tokenize\n",
    "\n",
    "hindi_text = \"\"\"प्राकृतिक भाषा प्रसंस्करण भाषा विज्ञान, कंप्यूटर विज्ञान, और कृत्रिम बुद्धिमत्ता का एक उपक्षेत्र है, \n",
    "                जो कंप्यूटर और मानव भाषा के बीच \n",
    "                पारस्परिक क्रियाओं से संबंधित है, विशेष रूप से कंप्यूटर \n",
    "                को बड़ी मात्रा में प्राकृतिक भाषा डेटा को संसाधित और विश्लेषण करने के लिए कैसे प्रोग्राम किया जाता है।\"\"\"\n",
    "\n",
    "# tokenize(input text, language code)\n",
    "tokenize(hindi_text, \"hi\")"
   ]
  },
  {
   "cell_type": "code",
   "execution_count": null,
   "id": "d3b2d4d7",
   "metadata": {},
   "outputs": [],
   "source": [
    "from inltk.inltk import tokenize\n",
    "marathi_text = \"\"\"माझे नाव आकांक्षा भोंडवे आहे. मी engineering  करत आहे. मी विश्वकर्मा युनिव्हर्सिटी मध्ये शिकते.\"\"\"\n",
    "\n",
    "# tokenize(input text, language code)\n",
    "tokenize(marathi_text, \"hi\")"
   ]
  },
  {
   "cell_type": "code",
   "execution_count": null,
   "id": "7b27fd22",
   "metadata": {},
   "outputs": [],
   "source": []
  }
 ],
 "metadata": {
  "kernelspec": {
   "display_name": "Python 3",
   "language": "python",
   "name": "python3"
  },
  "language_info": {
   "codemirror_mode": {
    "name": "ipython",
    "version": 3
   },
   "file_extension": ".py",
   "mimetype": "text/x-python",
   "name": "python",
   "nbconvert_exporter": "python",
   "pygments_lexer": "ipython3",
   "version": "3.8.8"
  }
 },
 "nbformat": 4,
 "nbformat_minor": 5
}
